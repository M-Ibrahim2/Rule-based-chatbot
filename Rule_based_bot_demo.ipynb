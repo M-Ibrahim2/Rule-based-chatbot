{
  "nbformat": 4,
  "nbformat_minor": 0,
  "metadata": {
    "colab": {
      "provenance": []
    },
    "kernelspec": {
      "name": "python3",
      "display_name": "Python 3"
    },
    "language_info": {
      "name": "python"
    }
  },
  "cells": [
    {
      "cell_type": "code",
      "execution_count": 7,
      "metadata": {
        "id": "N9EdZwAQ00u2"
      },
      "outputs": [],
      "source": [
        "import re  #it's the string handling library which allows you to handle the string like in searching or subsetting the list\n",
        "import random #it alows you to chose one of the random response from the set of responses in the list"
      ]
    },
    {
      "cell_type": "code",
      "source": [
        "class Rulebot:\n",
        "  ###Potential negative responses\n",
        "  negative_responses=(\"no\", \"nope\", \"nah\", \"naw\", \"not a chance\", \"sorry\")\n",
        "  ###exit conversation keywords\n",
        "  exit_commands = (\"quit\",\"pause\",\"exit\",\"goodbye\", \"sorry\", \"later\")\n",
        "  ###Randon starter question\n",
        "  random_question=(\n",
        "      \"why are you hare?\",\n",
        "      \"are there many humans like you ?\",\n",
        "      \"what do you consume for sustance?\",\n",
        "      \"is there intelligent life on this planet?\"\n",
        "  )\n",
        "  ##init funtion all the coding logic of the entire bot\n",
        "\n",
        "  ###these are all intent\n",
        "  def __init__(self):\n",
        "    self.allienbabble = {'describe_your_intent': r'.*\\s*your planet.*',       ##delaring the method and the three mian keys as the dictionary 1. 'describe_your_intent'  2. 'answer_why_intent'  3. 'about_intellipat'\n",
        "                         'answer_why_intent': r'why\\sare.*',\n",
        "                         'about_intellipat': r'.*\\s*intellipat',\n",
        "                         'about_session': r'.*\\s*session'\n",
        "                         }\n",
        "  def greet(self):\n",
        "    self.name = input(\"what is your name ?\")\n",
        "    will_help = input(\n",
        "        f\"Hi {self.name}, I am Rule-bot. Will you help me to learn about your planet ? \\n\")\n",
        "    if will_help in self.negative_responses:\n",
        "        print(\"ok, have a nice Earth day\")\n",
        "        return\n",
        "    self.chat()\n",
        "\n",
        "  def make_exit(self, reply):\n",
        "    for command in self.exit_commands:\n",
        "      if reply == command:\n",
        "        print(\"ok, have a nice earth day\")\n",
        "        return True\n",
        "\n",
        "\n",
        "  ##chat function where bot will continue to chat with the user\n",
        "  def chat(self):\n",
        "    reply=input(random.choice(self.random_question)).lower()\n",
        "    while not self.make_exit (reply):\n",
        "      reply = input(self.match_reply(reply))\n",
        "\n",
        "\n",
        "######this is the AI brain of our bot\n",
        "#this bot learned 6 rules\n",
        "  def match_reply(self, reply):\n",
        "    for key, value  in self.allienbabble.items():\n",
        "      intent = key\n",
        "      regex_pattern = value\n",
        "      found_match = re.match(regex_pattern, reply)\n",
        "      if found_match and intent == 'describe_planet_intent':\n",
        "        return self.describe_planet_intent()\n",
        "      elif found_match and intent == 'answer_why_intent':\n",
        "        return self.answer_why_intent()\n",
        "      elif found_match and intent == 'about_intellipat':\n",
        "        return self.about_intellipat()\n",
        "      elif found_match and intent == 'about_session':\n",
        "        return self.about_session()\n",
        "    if not found_match:\n",
        "      return self.no_match_intent()\n",
        "\n",
        "  def describe_planet_intent(self):\n",
        "    responses = (\"my planet is a utopia of diverse organism and species.\\n\",\n",
        "                 \"i am from opidipus, the capital of the wayward galaxies\\n\")\n",
        "    return random.choice(responses)\n",
        "\n",
        "  def answer_why_intent(self):\n",
        "    responses = (\"i come in peace\\n\", \"i am here to collect data of your planet and its inhabitants\\n\",\n",
        "                 \"i heard the coffee is good\\n\"\n",
        "                 \"i am from opidipus, the capital of the wayward galaxies\\n\")\n",
        "    return random.choice(responses)\n",
        "\n",
        "  def about_intellipat(self):\n",
        "    responses = (\"it is world largest educational company.\\n\", \"it will make you learn the concepts\",\n",
        "                 \"it is from where you career and skill grow\\n\")\n",
        "    return random.choice(responses)\n",
        "\n",
        "  def about_session(self):\n",
        "    responses = (\"session is on 14th aug 2024\\n\", \"session was cool\")\n",
        "    return random.choice(responses)\n",
        "\n",
        "  def no_match_intent(self):\n",
        "    responses = (\n",
        "    \"please tell me more\\n\", \"tell me more!\\n\",\"why do you say that\\n\",\"i see, can you elaborate?\\n\",\n",
        "    \"intersting. Can you tell me more\", \"i see, how do you think\\n\",\"why\\n\",\n",
        "    \"how do you think i feel when you say that?\\n\")\n",
        "    return random.choice(responses)\n",
        "\n",
        "AlienBot= Rulebot()\n",
        "AlienBot.greet()"
      ],
      "metadata": {
        "colab": {
          "base_uri": "https://localhost:8080/"
        },
        "id": "cowSbgC82Jtj",
        "outputId": "eaeb32bc-e26a-4be6-d5db-0aa15c39dcbd"
      },
      "execution_count": 12,
      "outputs": [
        {
          "output_type": "stream",
          "name": "stdout",
          "text": [
            "what is your name ?ib\n",
            "Hi ib, I am Rule-bot. Will you help me to learn about your planet ? \n",
            "yes\n",
            "is there intelligent life on this planet?yes\n",
            "intersting. Can you tell me moreyes\n",
            "intersting. Can you tell me moreno i am boared\n",
            "i see, how do you think\n",
            "i think earth is cool\n",
            "please tell me more\n",
            "earth have cars\n",
            "i see, how do you think\n",
            "you tell me something about intellipat\n",
            "it is world largest educational company.\n",
            "anything else\n",
            "i see, can you elaborate?\n",
            "i want to know more about intellipat\n",
            "it will make you learn the conceptsthanks\n",
            "why do you say that\n",
            "because i am thankful\n",
            "why\n",
            "because you helped me\n",
            "please tell me more\n",
            "no\n",
            "why do you say that\n",
            "nah\n",
            "please tell me more\n",
            "sorry\n",
            "ok, have a nice earth day\n"
          ]
        }
      ]
    },
    {
      "cell_type": "code",
      "source": [
        "\n"
      ],
      "metadata": {
        "id": "1R5x9UhXMsR1"
      },
      "execution_count": null,
      "outputs": []
    }
  ]
}